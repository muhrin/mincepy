{
 "cells": [
  {
   "cell_type": "markdown",
   "metadata": {},
   "source": [
    "Mapped Types\n",
    "============\n",
    "\n",
    "Mapped types are Python types that don't inherit from mincePy classes and can therefore exist entirely independently.\n",
    "This is extremely useful if, for example, you are using objects from someone else's that you can't change or you choose not to change because it is also used independently of a database.\n",
    "\n",
    "Using type helpers\n",
    "------------------\n",
    "\n",
    "Let's demonstrate with a Car object"
   ]
  },
  {
   "cell_type": "code",
   "execution_count": null,
   "metadata": {},
   "outputs": [],
   "source": [
    "class Car:\n",
    "    def __init__(self, make='ferrari', colour='red'):\n",
    "        self.make = make\n",
    "        self.colour = colour\n",
    "\n",
    "    def __str__(self):\n",
    "        return \"{} {}\".format(self.colour, self.make)"
   ]
  },
  {
   "cell_type": "markdown",
   "metadata": {},
   "source": [
    "So far, mincePy can't do anything with this:"
   ]
  },
  {
   "cell_type": "code",
   "execution_count": null,
   "metadata": {},
   "outputs": [],
   "source": [
    "import mincepy\n",
    "historian = mincepy.connect('mongodb://127.0.0.1/mince-mapped-types', use_globally=True)\n",
    "\n",
    "ferrari = Car()\n",
    "historian.save(ferrari)"
   ]
  },
  {
   "cell_type": "markdown",
   "metadata": {},
   "source": [
    "To tell mincePy about `Car`s we need to define subclass of [TypeHelper](../apidoc.rst#mincepy.TypeHelper) which helps mincePy to understand your type...understandably..."
   ]
  },
  {
   "cell_type": "code",
   "execution_count": null,
   "metadata": {},
   "outputs": [],
   "source": [
    "import uuid\n",
    "\n",
    "class CarHelper(mincepy.TypeHelper):\n",
    "    TYPE = Car\n",
    "    TYPE_ID = uuid.UUID('21605412-30e5-4f48-9f56-f0fa8014e746')\n",
    "    make = mincepy.field()\n",
    "    colour = mincepy.field()\n",
    "\n",
    "historian.register_type(CarHelper)\n",
    "ferrari_id = historian.save(ferrari)\n",
    "print(ferrari_id)"
   ]
  },
  {
   "cell_type": "markdown",
   "metadata": {},
   "source": [
    "...and that's it!  MincePy can now work with `Car`s.\n",
    "You'll notice that, unlike many ORMs, we haven't specified the types of `make` and `colour`, nor any validation options like the maximum length of the strings or whether they can be missing or not.\n",
    "This is deliberate.\n",
    "MincePy leaves validation up to your code (so you do whatever you would have done if there was no database involved) and concerns itself with getting your object in and out of the database.\n",
    "Speaking of which, let's see some of that in action."
   ]
  },
  {
   "cell_type": "code",
   "execution_count": null,
   "metadata": {},
   "outputs": [],
   "source": [
    "del ferrari\n",
    "loaded_ferrari = historian.load(ferrari_id)\n",
    "print(loaded_ferrari)"
   ]
  },
  {
   "cell_type": "markdown",
   "metadata": {},
   "source": [
    "Cool, so how does that work?\n",
    "Well mincePy has created a [DataRecord](../apidoc.rst#mincepy.DataRecord) of our `Car` in the database that stores a bunch of things, including the state which can be used to recreate it.\n",
    "Let's have a look:"
   ]
  },
  {
   "cell_type": "code",
   "execution_count": null,
   "metadata": {},
   "outputs": [],
   "source": [
    "print(historian.records.get(ferrari_id))\n"
   ]
  },
  {
   "cell_type": "markdown",
   "metadata": {},
   "source": [
    "In addition to the state we see the creation and snapshots times, the version number and other information mincePy needs to store and track the object.\n",
    "\n",
    "Let's create some more `Car`s and perform some queries."
   ]
  },
  {
   "cell_type": "code",
   "execution_count": null,
   "metadata": {},
   "outputs": [],
   "source": [
    "for make in 'skoda', 'honda', 'bmw':\n",
    "    for colour in 'red', 'green', 'violet':\n",
    "        historian.save(Car(make=make, colour=colour))\n",
    "\n",
    "historian.find().count()"
   ]
  },
  {
   "cell_type": "markdown",
   "metadata": {},
   "source": [
    "We can, for example, find all the red ones using:"
   ]
  },
  {
   "cell_type": "code",
   "execution_count": null,
   "metadata": {},
   "outputs": [],
   "source": [
    "results = historian.find(CarHelper.colour == 'red')\n",
    "for entry in results:\n",
    "    print(entry)"
   ]
  },
  {
   "cell_type": "markdown",
   "metadata": {},
   "source": [
    "References\n",
    "----------\n",
    "\n",
    "The next thing we may want to introduce is references.\n",
    "What if we have an object like this:"
   ]
  },
  {
   "cell_type": "code",
   "execution_count": null,
   "metadata": {},
   "outputs": [],
   "source": [
    "class Person:\n",
    "    def __init__(self, name, car=None):\n",
    "        self.name = name\n",
    "        self.car = car\n",
    "\n",
    "    def __str__(self):\n",
    "        return self.name if self.car is None else self.name + \"({})\".format(self.car)\n",
    "\n",
    "matt = Person('matt', loaded_ferrari)"
   ]
  },
  {
   "cell_type": "markdown",
   "metadata": {},
   "source": [
    "Here we want `Person` objects to be able to store a reference (a foreign key in ORM language) to the `Car` that they own.\n",
    "No problem, let's define a new helper:"
   ]
  },
  {
   "cell_type": "code",
   "execution_count": null,
   "metadata": {},
   "outputs": [],
   "source": [
    "class PersonHelper(mincepy.TypeHelper):\n",
    "    TYPE = Person\n",
    "    TYPE_ID = uuid.UUID('80c7bedb-9e51-48cd-afa9-04ec97b20569')\n",
    "    name = mincepy.field()\n",
    "    car = mincepy.field(ref=True)\n",
    "\n",
    "historian.register_type(PersonHelper)\n",
    "matt_id = historian.save(matt)"
   ]
  },
  {
   "cell_type": "markdown",
   "metadata": {},
   "source": [
    "By using setting `ref=True` we tell mincePy that we want to the `car` field to be stored by reference rather than keeping a copy of the car in the record.\n",
    "Let's have a look:"
   ]
  },
  {
   "cell_type": "code",
   "execution_count": null,
   "metadata": {},
   "outputs": [],
   "source": [
    "print(historian.records.get(matt_id))"
   ]
  },
  {
   "cell_type": "markdown",
   "metadata": {},
   "source": [
    "We see that the `car` field in the `state` dictionary is in fact a reference pointing to the object id of the Ferrari.\n",
    "What does this all mean in practice?\n",
    "Well let's see what happens when we load the `matt` object from the database:"
   ]
  },
  {
   "cell_type": "code",
   "execution_count": null,
   "metadata": {},
   "outputs": [],
   "source": [
    "del matt\n",
    "loaded_matt = historian.load(matt_id)\n",
    "\n",
    "loaded_matt.car is loaded_ferrari"
   ]
  },
  {
   "cell_type": "markdown",
   "metadata": {},
   "source": [
    "If we add another `Person` referring to the Ferrari we see that they share a reference to the same instance, as expected."
   ]
  },
  {
   "cell_type": "code",
   "execution_count": null,
   "metadata": {},
   "outputs": [],
   "source": [
    "rob = Person('rob', loaded_ferrari)\n",
    "rob_id = historian.save(rob)\n",
    "\n",
    "del rob, loaded_matt\n",
    "loaded_ferrari.colour = 'yellow'\n",
    "historian.save(loaded_ferrari)\n",
    "del loaded_ferrari\n",
    "\n",
    "matt = historian.get(matt_id)\n",
    "rob = historian.get(rob_id)\n",
    "\n",
    "print(matt.car is rob.car)\n",
    "print(matt.car)"
   ]
  },
  {
   "cell_type": "markdown",
   "metadata": {},
   "source": [
    "So, that gets you up to speed on the basics of using mapped types in mincePy.\n",
    "Have a look at the [API reference](../apidoc.rst) and post an issue [here](https://github.com/muhrin/mincepy/issues>) if there is anything else you would like to see documented.\n",
    "\n"
   ]
  }
 ],
 "metadata": {
  "kernelspec": {
   "display_name": "Python 3",
   "language": "python",
   "name": "python3"
  },
  "language_info": {
   "codemirror_mode": {
    "name": "ipython",
    "version": 2
   },
   "file_extension": ".py",
   "mimetype": "text/x-python",
   "name": "python",
   "nbconvert_exporter": "python",
   "pygments_lexer": "ipython2"
  }
 },
 "nbformat": 4,
 "nbformat_minor": 0
}
