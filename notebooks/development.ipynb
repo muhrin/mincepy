{
 "cells": [
  {
   "cell_type": "code",
   "execution_count": null,
   "metadata": {},
   "outputs": [],
   "source": [
    "import pymongo\n",
    "import bson\n",
    "import random\n",
    "\n",
    "import mincepy\n",
    "from mincepy.testing import *"
   ]
  },
  {
   "cell_type": "code",
   "execution_count": null,
   "metadata": {},
   "outputs": [],
   "source": [
    "hist = mincepy.create_historian(\"mongodb://localhost/test\")\n",
    "mincepy.set_historian(hist)"
   ]
  },
  {
   "cell_type": "code",
   "execution_count": null,
   "metadata": {},
   "outputs": [],
   "source": [
    "hist.get_archive()._data_collection.drop()\n",
    "hist.get_archive()._meta_collection.drop()"
   ]
  },
  {
   "cell_type": "code",
   "execution_count": null,
   "metadata": {},
   "outputs": [],
   "source": [
    "def populate_database(hist):\n",
    "    colours = ('red' , 'orange', 'yellow', 'green', 'blue', 'indigo', 'violet')\n",
    "    makes = ('honda', 'ferrari', 'zonda', 'fiat')\n",
    "    \n",
    "    cars = []\n",
    "    \n",
    "    for make in makes:\n",
    "        for colour in colours:\n",
    "            # Make some cars\n",
    "            car = Car(make, colour)\n",
    "            hist.save(car)\n",
    "            cars.append(car)\n",
    "            \n",
    "            \n",
    "    # Now randomly change some of them\n",
    "    for _ in range(int(len(cars)/4)):\n",
    "        car = random.choice(cars)\n",
    "        car.colour = random.choice(colours)\n",
    "        hist.save(car)\n",
    "        \n",
    "    # Now change one a number of times\n",
    "    car = random.choice(cars)\n",
    "    for colour in colours:\n",
    "        car.colour = colour\n",
    "        hist.save(car)\n",
    "        "
   ]
  },
  {
   "cell_type": "code",
   "execution_count": null,
   "metadata": {},
   "outputs": [],
   "source": [
    "            \n",
    "for i in range(10):\n",
    "    populate_database(hist)\n",
    "\n",
    "car = Car('ferrari')\n",
    "car_id = hist.save(car)\n",
    "\n"
   ]
  },
  {
   "cell_type": "code",
   "execution_count": null,
   "metadata": {},
   "outputs": [],
   "source": [
    "garage = Garage(car)\n",
    "garage_id = hist.save(garage)"
   ]
  },
  {
   "cell_type": "code",
   "execution_count": null,
   "metadata": {},
   "outputs": [],
   "source": [
    "del garage\n"
   ]
  },
  {
   "cell_type": "code",
   "execution_count": null,
   "metadata": {},
   "outputs": [],
   "source": [
    "car.colour = 'yellow'\n",
    "hist.save(car)\n",
    "garage = hist.load(garage_id)\n",
    "print(garage.car.colour)"
   ]
  },
  {
   "cell_type": "code",
   "execution_count": null,
   "metadata": {},
   "outputs": [],
   "source": [
    "\n"
   ]
  }
 ],
 "metadata": {
  "kernelspec": {
   "display_name": "Python 3",
   "language": "python",
   "name": "python3"
  },
  "language_info": {
   "codemirror_mode": {
    "name": "ipython",
    "version": 2
   },
   "file_extension": ".py",
   "mimetype": "text/x-python",
   "name": "python",
   "nbconvert_exporter": "python",
   "pygments_lexer": "ipython2"
  },
  "pycharm": {
   "stem_cell": {
    "cell_type": "raw",
    "metadata": {
     "collapsed": false
    },
    "source": []
   }
  }
 },
 "nbformat": 4,
 "nbformat_minor": 0
}
